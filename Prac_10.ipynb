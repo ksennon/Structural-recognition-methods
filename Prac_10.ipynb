{
 "cells": [
  {
   "cell_type": "code",
   "execution_count": 1,
   "id": "f1bb25d9-ca0d-4144-a0b7-e7eb0f427303",
   "metadata": {},
   "outputs": [],
   "source": [
    "import time\n",
    "import numpy as np\n",
    "\n",
    "def collect_typing_data(phrase):\n",
    "    timings = []\n",
    "    print(f\"Введіть фразу: {phrase}\")\n",
    "    input(\"Натисніть Enter, щоб почати...\")\n",
    "\n",
    "    for char in phrase:\n",
    "        while True:\n",
    "            start = time.time()\n",
    "            input_char = input(f\"Введіть символ: {char} \")\n",
    "            end = time.time()\n",
    "\n",
    "            if input_char == char:\n",
    "                timings.append(end - start)\n",
    "                break\n",
    "            else:\n",
    "                print(\"Помилка введення. Спробуйте ще раз.\")\n",
    "    \n",
    "    return timings"
   ]
  },
  {
   "cell_type": "code",
   "execution_count": 2,
   "id": "dd6b8584-75e8-4123-9722-6ddbc374c6f5",
   "metadata": {},
   "outputs": [],
   "source": [
    "def train_model(num_attempts, control_phrase):\n",
    "    training_data = []\n",
    "\n",
    "    for attempt in range(1, num_attempts + 1):\n",
    "        print(f\"Номер спроби навчання: {attempt}\")\n",
    "        timings = collect_typing_data(control_phrase)\n",
    "\n",
    "        if timings:\n",
    "            training_data.append(timings)\n",
    "\n",
    "    training_data = np.array(training_data)\n",
    "    mean_timings = np.mean(training_data, axis=0)\n",
    "    std_timings = np.std(training_data, axis=0)\n",
    "\n",
    "    np.savetxt(\"etalon_mean.txt\", mean_timings)\n",
    "    np.savetxt(\"etalon_std.txt\", std_timings)\n",
    "\n",
    "    print(\"Навчання завершено. Еталонні характеристики збережено у файлі.\")"
   ]
  },
  {
   "cell_type": "code",
   "execution_count": 3,
   "id": "3b428eb2-9037-45fe-a12e-b3f1e6ffc5ff",
   "metadata": {},
   "outputs": [],
   "source": [
    "def authenticate_user(num_attempts, significance_level, control_phrase):\n",
    "    mean_timings = np.loadtxt(\"etalon_mean.txt\")\n",
    "    std_timings = np.loadtxt(\"etalon_std.txt\")\n",
    "\n",
    "    if len(control_phrase) != len(mean_timings):\n",
    "        print(\"Помилка: Довжина контрольної фрази для ідентифікації не відповідає еталонній фразі.\")\n",
    "        return\n",
    "\n",
    "    for attempt in range(1, num_attempts + 1):\n",
    "        print(f\"Номер спроби автентифікації: {attempt}\")\n",
    "        timings = collect_typing_data(control_phrase)\n",
    "\n",
    "        if not timings:\n",
    "            print(\"Помилка введення. Спробуйте ще раз.\")\n",
    "            continue\n",
    "\n",
    "        timings = np.array(timings)\n",
    "        z_scores = (timings - mean_timings) / std_timings\n",
    "        p_values = 1 - np.abs(z_scores)\n",
    "\n",
    "        if np.all(p_values > significance_level):\n",
    "            print(\"Автентифікація успішна!\")\n",
    "            return True\n",
    "        else:\n",
    "            print(\"Автентифікація не вдалася.\")\n",
    "            print(f\"Середні значення еталону: {mean_timings}\")\n",
    "            print(f\"Введені значення: {timings}\")\n",
    "            print(f\"Z-показники: {z_scores}\")\n",
    "            print(f\"P-значення: {p_values}\")\n",
    "\n",
    "    return False"
   ]
  },
  {
   "cell_type": "code",
   "execution_count": 4,
   "id": "fe605784-d925-4675-8de1-7fee48479ecd",
   "metadata": {},
   "outputs": [
    {
     "name": "stdin",
     "output_type": "stream",
     "text": [
      "Введіть кількість спроб навчання:  5\n",
      "Введіть контрольну фразу:  user\n"
     ]
    },
    {
     "name": "stdout",
     "output_type": "stream",
     "text": [
      "Номер спроби навчання: 1\n",
      "Введіть фразу: user\n"
     ]
    },
    {
     "name": "stdin",
     "output_type": "stream",
     "text": [
      "Натисніть Enter, щоб почати... \n",
      "Введіть символ: u  u\n",
      "Введіть символ: s  s\n",
      "Введіть символ: e  e\n",
      "Введіть символ: r  r\n"
     ]
    },
    {
     "name": "stdout",
     "output_type": "stream",
     "text": [
      "Номер спроби навчання: 2\n",
      "Введіть фразу: user\n"
     ]
    },
    {
     "name": "stdin",
     "output_type": "stream",
     "text": [
      "Натисніть Enter, щоб почати... \n",
      "Введіть символ: u  u\n",
      "Введіть символ: s  s\n",
      "Введіть символ: e  e\n",
      "Введіть символ: r  r\n"
     ]
    },
    {
     "name": "stdout",
     "output_type": "stream",
     "text": [
      "Номер спроби навчання: 3\n",
      "Введіть фразу: user\n"
     ]
    },
    {
     "name": "stdin",
     "output_type": "stream",
     "text": [
      "Натисніть Enter, щоб почати... \n",
      "Введіть символ: u  u\n",
      "Введіть символ: s  s\n",
      "Введіть символ: e  e\n",
      "Введіть символ: r  r\n"
     ]
    },
    {
     "name": "stdout",
     "output_type": "stream",
     "text": [
      "Номер спроби навчання: 4\n",
      "Введіть фразу: user\n"
     ]
    },
    {
     "name": "stdin",
     "output_type": "stream",
     "text": [
      "Натисніть Enter, щоб почати... u\n",
      "Введіть символ: u  u\n",
      "Введіть символ: s  s\n",
      "Введіть символ: e  e\n",
      "Введіть символ: r  r\n"
     ]
    },
    {
     "name": "stdout",
     "output_type": "stream",
     "text": [
      "Номер спроби навчання: 5\n",
      "Введіть фразу: user\n"
     ]
    },
    {
     "name": "stdin",
     "output_type": "stream",
     "text": [
      "Натисніть Enter, щоб почати... \n",
      "Введіть символ: u  u\n",
      "Введіть символ: s  s\n",
      "Введіть символ: e  e\n",
      "Введіть символ: r  r\n"
     ]
    },
    {
     "name": "stdout",
     "output_type": "stream",
     "text": [
      "Навчання завершено. Еталонні характеристики збережено у файлі.\n"
     ]
    }
   ],
   "source": [
    "# Вхідні дані для навчання\n",
    "num_attempts = int(input(\"Введіть кількість спроб навчання: \")) \n",
    "control_phrase = input(\"Введіть контрольну фразу: \")  \n",
    "\n",
    "# Виклик функції для навчання моделі\n",
    "train_model(num_attempts, control_phrase)"
   ]
  },
  {
   "cell_type": "code",
   "execution_count": 11,
   "id": "0f732861-12a5-49fe-a857-fa0cc4da46fa",
   "metadata": {},
   "outputs": [
    {
     "name": "stdin",
     "output_type": "stream",
     "text": [
      "Введіть кількість спроб автентифікації:  5\n",
      "Введіть рівень значущості для режиму автентифікації:  0.05\n",
      "Введіть контрольну фразу:  user\n"
     ]
    },
    {
     "name": "stdout",
     "output_type": "stream",
     "text": [
      "Номер спроби автентифікації: 1\n",
      "Введіть фразу: user\n"
     ]
    },
    {
     "name": "stdin",
     "output_type": "stream",
     "text": [
      "Натисніть Enter, щоб почати... \n",
      "Введіть символ: u  u\n",
      "Введіть символ: s  s\n",
      "Введіть символ: e  e\n",
      "Введіть символ: r  r\n"
     ]
    },
    {
     "name": "stdout",
     "output_type": "stream",
     "text": [
      "Автентифікація не вдалася.\n",
      "Середні значення еталону: [0.94327531 0.61509113 0.62307501 0.51869092]\n",
      "Введені значення: [0.92770648 0.64466643 0.52803516 0.56523681]\n",
      "Z-показники: [-0.04181054  0.33029793 -0.55151646  1.01833799]\n",
      "P-значення: [ 0.95818946  0.66970207  0.44848354 -0.01833799]\n",
      "Номер спроби автентифікації: 2\n",
      "Введіть фразу: user\n"
     ]
    },
    {
     "name": "stdin",
     "output_type": "stream",
     "text": [
      "Натисніть Enter, щоб почати... \n",
      "Введіть символ: u  u\n",
      "Введіть символ: s  s\n",
      "Введіть символ: e  e\n",
      "Введіть символ: r  r\n"
     ]
    },
    {
     "name": "stdout",
     "output_type": "stream",
     "text": [
      "Автентифікація успішна!\n"
     ]
    },
    {
     "data": {
      "text/plain": [
       "True"
      ]
     },
     "execution_count": 11,
     "metadata": {},
     "output_type": "execute_result"
    }
   ],
   "source": [
    "# Вхідні дані для автентифікації\n",
    "num_attempts = int(input(\"Введіть кількість спроб автентифікації: \"))  \n",
    "significance_level = float(input(\"Введіть рівень значущості для режиму автентифікації: \"))  \n",
    "control_phrase = input(\"Введіть контрольну фразу: \")  \n",
    "\n",
    "# Виклик функції для автентифікації користувача\n",
    "authenticate_user(num_attempts, significance_level, control_phrase)"
   ]
  }
 ],
 "metadata": {
  "kernelspec": {
   "display_name": "Python 3 (ipykernel)",
   "language": "python",
   "name": "python3"
  },
  "language_info": {
   "codemirror_mode": {
    "name": "ipython",
    "version": 3
   },
   "file_extension": ".py",
   "mimetype": "text/x-python",
   "name": "python",
   "nbconvert_exporter": "python",
   "pygments_lexer": "ipython3",
   "version": "3.11.5"
  }
 },
 "nbformat": 4,
 "nbformat_minor": 5
}
